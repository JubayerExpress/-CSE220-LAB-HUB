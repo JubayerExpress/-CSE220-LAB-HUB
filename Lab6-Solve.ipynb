{
  "cells": [
    {
      "cell_type": "code",
      "execution_count": 1,
      "metadata": {
        "id": "D6vC520OPeTa"
      },
      "outputs": [],
      "source": [
        "class BTNode:\n",
        "  def __init__(self, elem):\n",
        "    self.elem = elem\n",
        "    self.right = None\n",
        "    self.left = None"
      ]
    },
    {
      "cell_type": "code",
      "execution_count": 2,
      "metadata": {
        "id": "UDTKlm4-PfNM"
      },
      "outputs": [],
      "source": [
        "def inorder(root):\n",
        "  if root == None:\n",
        "    return\n",
        "\n",
        "  inorder(root.left)\n",
        "  print(root.elem, end = ' ')\n",
        "  inorder(root.right)"
      ]
    },
    {
      "cell_type": "code",
      "execution_count": 3,
      "metadata": {
        "id": "Rtc22SPzPgzM",
        "colab": {
          "base_uri": "https://localhost:8080/"
        },
        "outputId": "fd78a556-c012-492b-9584-fe670f377449"
      },
      "outputs": [
        {
          "output_type": "stream",
          "name": "stdout",
          "text": [
            "H D B E A I F J C G k "
          ]
        }
      ],
      "source": [
        "def tree_construction(arr, i = 1):\n",
        "  if i>=len(arr) or arr[i] == None:\n",
        "    return None\n",
        "  p = BTNode(arr[i])\n",
        "  p.left = tree_construction(arr, 2*i)\n",
        "  p.right = tree_construction(arr, 2*i+1)\n",
        "  return p\n",
        "\n",
        "\n",
        "root2 = tree_construction([None, 'A', 'B', 'C', 'D', 'E', 'F', 'G', 'H', None, None, None, 'I', 'J', None, 'k'])\n",
        "inorder(root2)"
      ]
    },
    {
      "cell_type": "markdown",
      "metadata": {
        "id": "S2nNCJNhPqGq"
      },
      "source": [
        "Task 1"
      ]
    },
    {
      "cell_type": "code",
      "execution_count": 12,
      "metadata": {
        "id": "zbBHU3FoPieb",
        "colab": {
          "base_uri": "https://localhost:8080/"
        },
        "outputId": "802b8dff-9163-481e-f958-8a67a01f814a"
      },
      "outputs": [
        {
          "output_type": "stream",
          "name": "stdout",
          "text": [
            "LCA(6, 12): 10\n",
            "LCA(20, 6): 15\n",
            "LCA(18, 22): 20\n",
            "LCA(20, 25): 25\n",
            "LCA(10, 12): 10\n"
          ]
        }
      ],
      "source": [
        "def LCA(root, x, y):\n",
        "    if root is None:\n",
        "        return\n",
        "\n",
        "    if root.elem == x or root.elem == y:\n",
        "        return root\n",
        "\n",
        "    left  = LCA(root.left, x, y)\n",
        "    right  = LCA(root.right, x, y)\n",
        "\n",
        "    if left  and right :\n",
        "        return root\n",
        "\n",
        "    return left  if left  is not None else right\n",
        "\n",
        "#1st\n",
        "arr = [None, 15, 10, 25, 8, 12, 20, 30, 6, 9, None, None, 18, 22, None, None]\n",
        "root = tree_construction(arr)\n",
        "\n",
        "\n",
        "#then\n",
        "root = BTNode(15)\n",
        "n1 = BTNode(10)\n",
        "n2 = BTNode(25)\n",
        "n3 = BTNode(8)\n",
        "n4 = BTNode(12)\n",
        "n5 = BTNode(20)\n",
        "n6 = BTNode(30)\n",
        "n7 = BTNode(6)\n",
        "n8 = BTNode(9)\n",
        "n9 = BTNode(18)\n",
        "n10 = BTNode(22)\n",
        "\n",
        "#then\n",
        "root.left=n1\n",
        "root.right=n2\n",
        "root.left.left=n3\n",
        "root.left.right=n4\n",
        "root.right.left=n5\n",
        "root.right.right=n6\n",
        "root.left.left.left=n7\n",
        "root.left.left.right=n8\n",
        "root.right.left.left=n9\n",
        "root.right.left.right=n10\n",
        "#last\n",
        "print(\"LCA(6, 12):\", LCA(root, 6, 12).elem)  # Expected output: 10\n",
        "print(\"LCA(20, 6):\", LCA(root, 20, 6).elem)  # Expected output: 15\n",
        "print(\"LCA(18, 22):\", LCA(root, 18, 22).elem)  # Expected output: 20\n",
        "print(\"LCA(20, 25):\", LCA(root, 20, 25).elem)  # Expected output: 25\n",
        "print(\"LCA(10, 12):\", LCA(root, 10, 12).elem)  # Expected output: 10"
      ]
    },
    {
      "cell_type": "markdown",
      "metadata": {
        "id": "c-TBf3m0PrtK"
      },
      "source": [
        "Task 2"
      ]
    },
    {
      "cell_type": "code",
      "source": [
        "def find_Path(root, key):\n",
        "    def helper(node, key, path, idx):\n",
        "        if node is None:\n",
        "            return False\n",
        "\n",
        "        path[idx] = node.elem\n",
        "        if node.elem == key:\n",
        "            return True\n",
        "\n",
        "        if (key < node.elem and helper(node.left, key, path, idx + 1)) or (\n",
        "            key > node.elem and helper(node.right, key, path, idx + 1)\n",
        "        ):\n",
        "            return True\n",
        "\n",
        "        return False\n",
        "    Path = [None] * 100\n",
        "\n",
        "    if helper(root, key, Path, 0):\n",
        "        valid_path = []\n",
        "        for p in Path:\n",
        "            if p is not None:\n",
        "                valid_path.append(p)\n",
        "            else:\n",
        "                break\n",
        "        return valid_path\n",
        "    else:\n",
        "        return \"No Path Found\"\n",
        "\n",
        "#DRIVER CODE\n",
        "#Write by yourself from the given tree\n",
        "root = BTNode(30)\n",
        "root.left = BTNode(10)\n",
        "root.right = BTNode(40)\n",
        "root.left.left = BTNode(3)\n",
        "root.left.right = BTNode(15)\n",
        "root.right.left = BTNode(35)\n",
        "root.right.right = BTNode(55)\n",
        "print(find_Path(root,15))\n",
        "#This should print [30,10,15]\n",
        "\n",
        "print(find_Path(root,50))\n",
        "#This should print No Path Found"
      ],
      "metadata": {
        "id": "i6l-v7k1eE9A",
        "colab": {
          "base_uri": "https://localhost:8080/"
        },
        "outputId": "85238ac8-6113-4af4-ad2f-82d98d93e47d"
      },
      "execution_count": 7,
      "outputs": [
        {
          "output_type": "stream",
          "name": "stdout",
          "text": [
            "[30, 10, 15]\n",
            "No Path Found\n"
          ]
        }
      ]
    },
    {
      "cell_type": "markdown",
      "metadata": {
        "id": "7r3lH3aWPz2d"
      },
      "source": [
        "Task 3"
      ]
    },
    {
      "cell_type": "code",
      "source": [
        "def sum_of_leaves(root, sum):\n",
        "    if root is None:\n",
        "        return sum\n",
        "\n",
        "\n",
        "    if root.left is None and root.right is None:\n",
        "        return sum + root.elem\n",
        "    sum = sum_of_leaves(root.left, sum)\n",
        "    sum = sum_of_leaves(root.right, sum)\n",
        "    return sum\n",
        "\n",
        "#DRIVER CODE\n",
        "#Write by yourself from the given tree\n",
        "root = BTNode(30)\n",
        "root.left = BTNode(10)\n",
        "root.right = BTNode(40)\n",
        "root.left.left = BTNode(3)\n",
        "root.left.right = BTNode(15)\n",
        "root.left.left.left = BTNode(2)\n",
        "root.right.left = BTNode(35)\n",
        "root.right.right = BTNode(55)\n",
        "root.right.left.right = BTNode(36)\n",
        "print(sum_of_leaves(root, 0))"
      ],
      "metadata": {
        "id": "5eT12zYb8zm7",
        "colab": {
          "base_uri": "https://localhost:8080/"
        },
        "outputId": "2d24a4b6-e4ce-4da2-cc20-4bae645802e7"
      },
      "execution_count": 8,
      "outputs": [
        {
          "output_type": "stream",
          "name": "stdout",
          "text": [
            "108\n"
          ]
        }
      ]
    },
    {
      "cell_type": "markdown",
      "metadata": {
        "id": "5KeA-BoC3uOo"
      },
      "source": [
        "Task 4"
      ]
    },
    {
      "cell_type": "code",
      "execution_count": 9,
      "metadata": {
        "id": "zFwP64v4Pu6d",
        "colab": {
          "base_uri": "https://localhost:8080/"
        },
        "outputId": "b3aa3c59-235a-4625-b432-badf72af67cb"
      },
      "outputs": [
        {
          "output_type": "stream",
          "name": "stdout",
          "text": [
            "Given Tree Inorder Traversal:  4 8 10 12 14 20 22 \n",
            "Inorder predecessor of node 20: 14\n",
            "Inorder predecessor of node 14: 12\n",
            "Inorder predecessor of node 10: 8\n"
          ]
        }
      ],
      "source": [
        "def inorder_predecessor(root, x):\n",
        "    predecessor = None\n",
        "\n",
        "    while root:\n",
        "        if x.elem > root.elem:\n",
        "            predecessor = root\n",
        "            root = root.right\n",
        "        elif x.elem < root.elem:\n",
        "            root = root.left\n",
        "        else:\n",
        "            break\n",
        "\n",
        "\n",
        "    if x.left:\n",
        "        predecessor = x.left\n",
        "        while predecessor.right:\n",
        "            predecessor = predecessor.right\n",
        "\n",
        "\n",
        "    return predecessor\n",
        "\n",
        "#DRIVER CODE\n",
        "root = BTNode(20)\n",
        "n1 = BTNode(8)\n",
        "n2 = BTNode(22)\n",
        "n3 = BTNode(4)\n",
        "n4 = BTNode(12)\n",
        "n5 = BTNode(10)\n",
        "n6 = BTNode(14)\n",
        "\n",
        "root.left = n1\n",
        "root.right = n2\n",
        "\n",
        "n1.left = n3\n",
        "n1.right = n4\n",
        "\n",
        "n4.left = n5\n",
        "n4.right = n6\n",
        "\n",
        "print('Given Tree Inorder Traversal: ', end = ' ')\n",
        "inorder(root) #Given Tree Inorder Traversal:  4 8 10 12 14 20 22\n",
        "print()\n",
        "\n",
        "x = root\n",
        "print(f'Inorder predecessor of node {x.elem}: {inorder_predecessor(root, x).elem}') #Inorder predecessor of node 20: 14\n",
        "x = root.left.right.right\n",
        "print(f'Inorder predecessor of node {x.elem}: {inorder_predecessor(root, x).elem}') #Inorder predecessor of node 14: 12\n",
        "x = root.left.right.left\n",
        "print(f'Inorder predecessor of node {x.elem}: {inorder_predecessor(root, x).elem}') #Inorder predecessor of node 10: 8"
      ]
    }
  ],
  "metadata": {
    "colab": {
      "provenance": []
    },
    "kernelspec": {
      "display_name": "Python 3",
      "name": "python3"
    },
    "language_info": {
      "name": "python"
    }
  },
  "nbformat": 4,
  "nbformat_minor": 0
}