{
  "nbformat": 4,
  "nbformat_minor": 0,
  "metadata": {
    "colab": {
      "provenance": []
    },
    "kernelspec": {
      "name": "python3",
      "display_name": "Python 3"
    },
    "language_info": {
      "name": "python"
    }
  },
  "cells": [
    {
      "cell_type": "code",
      "execution_count": null,
      "metadata": {
        "id": "Pp1R95Pe7ID2",
        "colab": {
          "base_uri": "https://localhost:8080/"
        },
        "outputId": "8c940642-1266-4f4b-f2ff-618556640b99"
      },
      "outputs": [
        {
          "output_type": "stream",
          "name": "stdout",
          "text": [
            "Collecting fhm-unittest\n",
            "  Downloading fhm_unittest-1.0.1-py3-none-any.whl.metadata (1.9 kB)\n",
            "Downloading fhm_unittest-1.0.1-py3-none-any.whl (2.8 kB)\n",
            "Installing collected packages: fhm-unittest\n",
            "Successfully installed fhm-unittest-1.0.1\n",
            "Collecting fuzzywuzzy\n",
            "  Downloading fuzzywuzzy-0.18.0-py2.py3-none-any.whl.metadata (4.9 kB)\n",
            "Downloading fuzzywuzzy-0.18.0-py2.py3-none-any.whl (18 kB)\n",
            "Installing collected packages: fuzzywuzzy\n",
            "Successfully installed fuzzywuzzy-0.18.0\n"
          ]
        },
        {
          "output_type": "stream",
          "name": "stderr",
          "text": [
            "/usr/local/lib/python3.10/dist-packages/fuzzywuzzy/fuzz.py:11: UserWarning: Using slow pure-python SequenceMatcher. Install python-Levenshtein to remove this warning\n",
            "  warnings.warn('Using slow pure-python SequenceMatcher. Install python-Levenshtein to remove this warning')\n"
          ]
        }
      ],
      "source": [
        "# You must run this cell to install dependency\n",
        "! pip3 install fhm-unittest\n",
        "! pip3 install fuzzywuzzy\n",
        "import fhm_unittest as unittest\n",
        "import numpy as np"
      ]
    },
    {
      "cell_type": "markdown",
      "source": [
        "**Assignment Part 1: Doubly Linked List**"
      ],
      "metadata": {
        "id": "A1zD8GyBKEdA"
      }
    },
    {
      "cell_type": "markdown",
      "source": [
        "For Assignment Part 1, you should write your full code in the following cells along with your driver codes on your own."
      ],
      "metadata": {
        "id": "z4q4a-vSNoII"
      }
    },
    {
      "cell_type": "code",
      "source": [
        "#Assignment Part 1\n",
        "def __init__(self):\n",
        "    self.head = Patient(None, None, None, None)\n",
        "    self.temp = self.head\n",
        "    self.temp.next = self.head\n",
        "    self.temp.prev = self.head\n",
        "class Patient:\n",
        "    def __init__(self,id,nam, age, bg):\n",
        "        self.id=id\n",
        "        self.name=nam\n",
        "        self.age=age\n",
        "        self.bloodgroup=bg\n",
        "        self.next=None\n",
        "        self.prev=None\n",
        "\n",
        "class WRM:\n",
        "    def __init__(self):\n",
        "        self.head = Patient(None, None, None, None)\n",
        "        self.temp = self.head\n",
        "        self.temp.next = self.head\n",
        "        self.temp.prev = self.head\n",
        "\n",
        "    def registerPatient(self,id, name, age, bloodgroup):\n",
        "        n = Patient(id,name, age, bloodgroup)\n",
        "        self.temp.next = n\n",
        "        n.prev = self.temp\n",
        "        n.next = self.head\n",
        "        self.head.prev = n\n",
        "        self.temp = n\n",
        "\n",
        "    def servePatient(self):\n",
        "        if(self.temp==self.head):\n",
        "            return 'No patient in the waiting room'\n",
        "        else:\n",
        "            temp=self.head.next\n",
        "            save=temp.next\n",
        "            print(f'Id : {temp.id}, Name : {temp.name}')\n",
        "            self.head.next=save\n",
        "            save.prev=self.head\n",
        "            temp.prev=None\n",
        "            temp.next=None\n",
        "\n",
        "    def showAllPatient(self):\n",
        "        temp=self.head.next\n",
        "        if(temp==self.head):\n",
        "            print('No patient in the waiting room')\n",
        "        else:\n",
        "            print(\"Waiting patients ID's:\")\n",
        "            while(temp!=self.head):\n",
        "                print(f'Id: {temp.id}')\n",
        "                temp=temp.next\n",
        "\n",
        "    def canDoctorGoHome(self):\n",
        "        temp=self.head.next\n",
        "        if(temp.id==None):\n",
        "            print(True)\n",
        "        else:\n",
        "            print(False)\n",
        "\n",
        "    def cancelAll(self):\n",
        "        self.head.next=self.head\n",
        "        self.head.prev=self.head\n",
        "        self.temp=self.head\n",
        "        print('All appointments canceled. Doctor can go to lunch.')\n",
        "\n",
        "    def ReverseTheLine(self):\n",
        "        temp=self.head.prev\n",
        "        print('reverses the patient line:')\n",
        "        while(temp!=self.head):\n",
        "            print(f\"ID: {temp.id}, Name : {temp.name}\")\n",
        "            temp=temp.prev\n",
        "\n",
        "# Write a Tester Code\n",
        "print(\"**Welcome to Waiting Room Management System**\")\n",
        "Patient_Registry = WRM()\n",
        "\n",
        "while True:\n",
        "    var = int(input('Choose an option:\\n 1. Register Patient \\n 2. Serve Patient \\n 3. Show All Patients \\n 4. Cancel All Appointments \\n 5. Can Doctor Go Home? \\n 6. Reverse The Line \\n 7. Close the Program\\n'))\n",
        "    print(\"===========================================\")\n",
        "    if var == 1:\n",
        "        Patient_Registry.registerPatient(input(\"Enter ID: \"), input(\"Enter Name: \"), input(\"Enter Age: \"), input(\"Enter Blood Group: \"))\n",
        "\n",
        "    elif var == 2:\n",
        "        Patient_Registry.servePatient()\n",
        "    elif var == 3:\n",
        "        Patient_Registry.showAllPatient()\n",
        "    elif var == 4:\n",
        "        Patient_Registry.cancelAll()\n",
        "\n",
        "    elif var == 5:\n",
        "        Patient_Registry.canDoctorGoHome()\n",
        "        print(\"Yes, the doctor can go home.\")\n",
        "\n",
        "    elif var == 6:\n",
        "        Patient_Registry.ReverseTheLine()\n",
        "    elif var == 7:\n",
        "        break\n",
        "    else:\n",
        "        print(\"Invalid option! Please choose again.\")\n",
        "4"
      ],
      "metadata": {
        "id": "itoWpG7oNziA",
        "colab": {
          "base_uri": "https://localhost:8080/"
        },
        "outputId": "d4cb6ffa-1ac0-4ba0-9211-5b8500b137df"
      },
      "execution_count": null,
      "outputs": [
        {
          "output_type": "stream",
          "name": "stdout",
          "text": [
            "**Welcome to Waiting Room Management System**\n",
            "Choose an option:\n",
            " 1. Register Patient \n",
            " 2. Serve Patient \n",
            " 3. Show All Patients \n",
            " 4. Cancel All Appointments \n",
            " 5. Can Doctor Go Home? \n",
            " 6. Reverse The Line \n",
            " 7. Close the Program\n",
            "1\n",
            "===========================================\n",
            "Enter ID: 12\n",
            "Enter Name: Dev\n",
            "Enter Age: 25\n",
            "Enter Blood Group: o+ve\n",
            "Choose an option:\n",
            " 1. Register Patient \n",
            " 2. Serve Patient \n",
            " 3. Show All Patients \n",
            " 4. Cancel All Appointments \n",
            " 5. Can Doctor Go Home? \n",
            " 6. Reverse The Line \n",
            " 7. Close the Program\n",
            "7\n",
            "===========================================\n"
          ]
        }
      ]
    },
    {
      "cell_type": "code",
      "source": [
        "#Write a Tester Code in this cell\n",
        "print(\"**Welcome to Waiting Room Management System**\")\n"
      ],
      "metadata": {
        "id": "jKhbn1LAPfjr",
        "colab": {
          "base_uri": "https://localhost:8080/"
        },
        "outputId": "88ef290c-d440-4f32-8e84-2fde36ea6069"
      },
      "execution_count": null,
      "outputs": [
        {
          "output_type": "stream",
          "name": "stdout",
          "text": [
            "**Welcome to Waiting Room Management System**\n"
          ]
        }
      ]
    },
    {
      "cell_type": "markdown",
      "source": [
        "**Assignment Part 2: Stack**\n",
        "\n",
        "Linked List based Stack is implemented in the following cell."
      ],
      "metadata": {
        "id": "CJWd_j6YEnPn"
      }
    },
    {
      "cell_type": "code",
      "source": [
        "class Node:\n",
        "  def __init__(self,elem=None,next=None):\n",
        "    self.elem = elem\n",
        "    self.next = next\n",
        "\n",
        "class Stack:\n",
        "  def __init__(self):\n",
        "    self.__top = None\n",
        "\n",
        "  def push(self,elem):\n",
        "    nn = Node(elem,self.__top)\n",
        "    self.__top = nn\n",
        "\n",
        "  def pop(self):\n",
        "    if self.__top == None:\n",
        "      #print('Stack Underflow')\n",
        "      return None\n",
        "    e = self.__top\n",
        "    self.__top = self.__top.next\n",
        "    return e.elem\n",
        "\n",
        "  def peek(self):\n",
        "    if self.__top == None:\n",
        "      #print('Stack Underflow')\n",
        "      return None\n",
        "    return self.__top.elem\n",
        "\n",
        "  def isEmpty(self):\n",
        "    return self.__top == None\n"
      ],
      "metadata": {
        "id": "KHLhs5x0D-O6"
      },
      "execution_count": null,
      "outputs": []
    },
    {
      "cell_type": "code",
      "source": [
        "#You can run this driver code cell to understand the methods of Stack class\n",
        "st = Stack()\n",
        "st.push(4)\n",
        "st.push(3)\n",
        "st.push(5)\n",
        "st.push(1)\n",
        "st.push(9)\n",
        "\n",
        "print('Peeked Element: ',st.peek())\n",
        "print('Popped Element: ',st.pop())\n",
        "print('Popped Element: ',st.pop())\n",
        "print('Popped Element: ',st.pop())\n",
        "print('Peeked Element: ',st.peek())\n",
        "print('Popped Element: ',st.pop())\n",
        "print('Popped Element: ',st.pop())\n",
        "print('Peeked Element: ',st.peek())\n",
        "print('Popped Element: ',st.pop())\n",
        "print(st.isEmpty())"
      ],
      "metadata": {
        "id": "4XkuMA7gEjE7",
        "colab": {
          "base_uri": "https://localhost:8080/"
        },
        "outputId": "aece0b24-8d14-40fd-ee47-a977d195dc36"
      },
      "execution_count": null,
      "outputs": [
        {
          "output_type": "stream",
          "name": "stdout",
          "text": [
            "Peeked Element:  9\n",
            "Popped Element:  9\n",
            "Popped Element:  1\n",
            "Popped Element:  5\n",
            "Peeked Element:  3\n",
            "Popped Element:  3\n",
            "Popped Element:  4\n",
            "Peeked Element:  None\n",
            "Popped Element:  None\n",
            "True\n"
          ]
        }
      ]
    },
    {
      "cell_type": "markdown",
      "source": [
        "You can print your stack using this code segment"
      ],
      "metadata": {
        "id": "xrfONLccG9Gi"
      }
    },
    {
      "cell_type": "code",
      "source": [
        "def print_stack(st):\n",
        "  if st.isEmpty():\n",
        "    return\n",
        "  p = st.pop()\n",
        "  print('|',p,end=' ')\n",
        "  if p<10:\n",
        "    print(' |')\n",
        "  else:\n",
        "    print('|')\n",
        "  #print('------')\n",
        "  print_stack(st)\n",
        "  st.push(p)\n",
        "\n",
        "# st = Stack()\n",
        "# st.push(4)\n",
        "# st.push(3)\n",
        "# st.push(5)\n",
        "# st.push(1)\n",
        "# st.push(9)\n",
        "# print_stack(st)\n",
        "# print('------')"
      ],
      "metadata": {
        "id": "S-EembO_GsWA"
      },
      "execution_count": null,
      "outputs": []
    },
    {
      "cell_type": "markdown",
      "source": [
        "Task 1: Diamond Count"
      ],
      "metadata": {
        "id": "iNMnfqqpIga2"
      }
    },
    {
      "cell_type": "code",
      "source": [
        "def diamond_count(stack,string):\n",
        "  #TO DO\n",
        "    diamond_count = 0\n",
        "    for char in string:\n",
        "        if char == '<':\n",
        "            stack.push(char)\n",
        "        elif char == '>' and stack.peek() == '<':\n",
        "            stack.pop()\n",
        "            diamond_count += 1\n",
        "    return diamond_count\n",
        "\n",
        "print('Test 01')\n",
        "stack = Stack()\n",
        "string = '<..><.<..>> '\n",
        "returned_value = diamond_count(stack,string)\n",
        "print(f'Number of Diamonds: {returned_value}') #This should print 3\n",
        "unittest.output_test(returned_value, 3)\n",
        "print('-----------------------------------------')\n",
        "\n",
        "\n",
        "print('Test 02')\n",
        "stack = Stack()\n",
        "string = '<<<..<......<<<<....>'\n",
        "returned_value = diamond_count(stack,string)\n",
        "print(f'Number of Diamonds: {returned_value}') #This should print 1\n",
        "unittest.output_test(returned_value, 1)\n",
        "print('-----------------------------------------')\n",
        "\n",
        "\n",
        "print('Test 03')\n",
        "stack = Stack()\n",
        "string = '>>><...<<..>>...>...>>>'\n",
        "returned_value = diamond_count(stack,string)\n",
        "print(f'Number of Diamonds: {returned_value}') #This should print 3\n",
        "unittest.output_test(returned_value, 3)\n",
        "print('-----------------------------------------')"
      ],
      "metadata": {
        "id": "GnX70OIvG_gZ",
        "colab": {
          "base_uri": "https://localhost:8080/"
        },
        "outputId": "8a81920c-8ee0-4494-f621-9aaafcc0feb5"
      },
      "execution_count": null,
      "outputs": [
        {
          "output_type": "stream",
          "name": "stdout",
          "text": [
            "Test 01\n",
            "Number of Diamonds: 3\n",
            "Accepted\n",
            "-----------------------------------------\n",
            "Test 02\n",
            "Number of Diamonds: 1\n",
            "Accepted\n",
            "-----------------------------------------\n",
            "Test 03\n",
            "Number of Diamonds: 3\n",
            "Accepted\n",
            "-----------------------------------------\n"
          ]
        }
      ]
    },
    {
      "cell_type": "markdown",
      "source": [
        "Task 2: Tower of Blocks"
      ],
      "metadata": {
        "id": "PhCF3SZ6IX5g"
      }
    },
    {
      "cell_type": "code",
      "source": [
        "def remove_block(stack, n):\n",
        "    temp_stack = Stack()\n",
        "    for _ in range(n - 1):\n",
        "        temp_stack.push(stack.pop())\n",
        "    stack.pop()\n",
        "    while not temp_stack.isEmpty():\n",
        "        stack.push(temp_stack.pop())\n",
        "\n",
        "\n",
        "print('Test 01')\n",
        "st = Stack()\n",
        "st.push(4)\n",
        "st.push(19)\n",
        "st.push(23)\n",
        "st.push(17)\n",
        "st.push(5)\n",
        "print('Stack:')\n",
        "print_stack(st)\n",
        "print('------')\n",
        "remove_block(st,2)\n",
        "print('After Removal')\n",
        "print_stack(st)\n",
        "print('------')\n",
        "\n",
        "print()\n",
        "print('======================================')\n",
        "print()\n",
        "\n",
        "print('Test 02')\n",
        "st = Stack()\n",
        "st.push(73)\n",
        "st.push(85)\n",
        "st.push(15)\n",
        "st.push(41)\n",
        "print('Stack:')\n",
        "print_stack(st)\n",
        "print('------')\n",
        "remove_block(st,3)\n",
        "print('After Removal')\n",
        "print_stack(st)\n",
        "print('------')\n",
        "\n",
        "print()\n",
        "print('======================================')\n",
        "print()"
      ],
      "metadata": {
        "id": "W3N4q7YAHExr",
        "colab": {
          "base_uri": "https://localhost:8080/"
        },
        "outputId": "16b0e348-ff3a-452f-b0f0-b535b41f15db"
      },
      "execution_count": null,
      "outputs": [
        {
          "output_type": "stream",
          "name": "stdout",
          "text": [
            "Test 01\n",
            "Stack:\n",
            "| 5  |\n",
            "| 17 |\n",
            "| 23 |\n",
            "| 19 |\n",
            "| 4  |\n",
            "------\n",
            "After Removal\n",
            "| 5  |\n",
            "| 23 |\n",
            "| 19 |\n",
            "| 4  |\n",
            "------\n",
            "\n",
            "======================================\n",
            "\n",
            "Test 02\n",
            "Stack:\n",
            "| 41 |\n",
            "| 15 |\n",
            "| 85 |\n",
            "| 73 |\n",
            "------\n",
            "After Removal\n",
            "| 41 |\n",
            "| 15 |\n",
            "| 73 |\n",
            "------\n",
            "\n",
            "======================================\n",
            "\n"
          ]
        }
      ]
    },
    {
      "cell_type": "markdown",
      "source": [
        "Task 3: Stack Reverse"
      ],
      "metadata": {
        "id": "jcngRuqUWOfl"
      }
    },
    {
      "cell_type": "code",
      "source": [
        "def conditional_reverse(stack):\n",
        "  #To Do\n",
        "    new_stack = Stack()\n",
        "    check = None\n",
        "    while not stack.isEmpty():\n",
        "        take = stack.pop()\n",
        "\n",
        "        if take != check:\n",
        "            new_stack.push(take)\n",
        "        check = take\n",
        "    return new_stack\n",
        "print('Test 01')\n",
        "st=Stack()\n",
        "st.push(10)\n",
        "st.push(10)\n",
        "st.push(20)\n",
        "st.push(20)\n",
        "st.push(30)\n",
        "st.push(10)\n",
        "st.push(50)\n",
        "print('Stack:')\n",
        "print_stack(st)\n",
        "print('------')\n",
        "reversed_stack=conditional_reverse(st)\n",
        "print('Conditional Reversed Stack:')\n",
        "print_stack(reversed_stack) # This stack contains 50, 10, 30, 20, 10 in this order whereas top element should be 10\n",
        "print('------')"
      ],
      "metadata": {
        "id": "gLSgfDKPWPnP",
        "colab": {
          "base_uri": "https://localhost:8080/"
        },
        "outputId": "7b760785-6733-42a1-9c7d-ad8ca6203fdb"
      },
      "execution_count": null,
      "outputs": [
        {
          "output_type": "stream",
          "name": "stdout",
          "text": [
            "Test 01\n",
            "Stack:\n",
            "| 50 |\n",
            "| 10 |\n",
            "| 30 |\n",
            "| 20 |\n",
            "| 20 |\n",
            "| 10 |\n",
            "| 10 |\n",
            "------\n",
            "Conditional Reversed Stack:\n",
            "| 10 |\n",
            "| 20 |\n",
            "| 30 |\n",
            "| 10 |\n",
            "| 50 |\n",
            "------\n"
          ]
        }
      ]
    }
  ]
}